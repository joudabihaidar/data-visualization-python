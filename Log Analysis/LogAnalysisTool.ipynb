{
 "cells": [
  {
   "cell_type": "markdown",
   "metadata": {},
   "source": [
    "# **<font color='magenta'>Visualizing application logs with Matplotlib</font>**"
   ]
  },
  {
   "cell_type": "markdown",
   "metadata": {},
   "source": [
    "## *<font color='navy'>Introdutcion:</font>*<br>\n",
    "Within the domain of computing and software engineering, logs play a pivotal role as they function as an electronic chronicle,<br> meticulously documenting the sequence of events, actions, and errors transpiring within a system or application.<br> Essentially, they represent a digital diary for machines, capturing a chronological narrative encompassing a broad spectrum of activities, from user interactions to intricate system processes.<br> Scrutinizing logs is foundational in information technology and software development, offering invaluable insights into system robustness,<br> performance optimization, and security fortification.<br> An essential facet of log analysis entails the vigilant monitoring of warnings and errors contained therein.<br> These warnings and errors are precursors to potential operational challenges, underscoring the critical importance of diligent oversight to maintain the seamless functionality of systems and applications.<br> In this lab, we will parse an application log and visualize the evolution of errors and warnings raised over time."
   ]
  },
  {
   "cell_type": "markdown",
   "metadata": {},
   "source": [
    "## *<font color='navy'>Data Set:</font>*<br>\n",
    "**1- TimeStamp** (Date and Time)<br>\n",
    "**2- Execution ID** (Integer): An auto increment ID related to the data pipeline job.<br>\n",
    "**3- Event type** (Text):<br>\n",
    "   *- Error:* This log entry is generated once an error occurs during the data pipeline execution.<br>\n",
    "   *- Warning:* This log entry is raised when some non-critical issues may cause a defect in the processed data or affect the data pipeline performance.<br>\n",
    "   *- Information:* This log entry is to inform about a normal activity.<br>\n",
    "**4- Details** (Text): The additional information about the log entry (Exception thrown, warning message,...)\n"
   ]
  },
  {
   "cell_type": "markdown",
   "metadata": {},
   "source": [
    "<font color='navy'>Importing the necessary libraries:</font>"
   ]
  },
  {
   "cell_type": "code",
   "execution_count": 1,
   "metadata": {},
   "outputs": [],
   "source": [
    "import pandas as pd\n",
    "import matplotlib.pyplot as plt\n",
    "from datetime import datetime"
   ]
  },
  {
   "cell_type": "markdown",
   "metadata": {},
   "source": [
    "<font color='navy'>Reading the CSV file:</font>"
   ]
  },
  {
   "cell_type": "code",
   "execution_count": 2,
   "metadata": {},
   "outputs": [],
   "source": [
    "df=pd.read_csv('log_data.csv',delimiter=';',header=None,names=['Timestamp','Execution ID','MessageType','Message'])"
   ]
  },
  {
   "cell_type": "code",
   "execution_count": 3,
   "metadata": {},
   "outputs": [],
   "source": [
    "# Converting Timestamp to DateTime:\n",
    "df['Timestamp']=pd.to_datetime(df['Timestamp'], format='%Y-%m-%d %H:%M:%S')"
   ]
  },
  {
   "cell_type": "code",
   "execution_count": 5,
   "metadata": {},
   "outputs": [
    {
     "name": "stdout",
     "output_type": "stream",
     "text": [
      "<class 'pandas.core.frame.DataFrame'>\n",
      "RangeIndex: 82 entries, 0 to 81\n",
      "Data columns (total 4 columns):\n",
      " #   Column        Non-Null Count  Dtype         \n",
      "---  ------        --------------  -----         \n",
      " 0   Timestamp     82 non-null     datetime64[ns]\n",
      " 1   Execution ID  82 non-null     int64         \n",
      " 2   MessageType   82 non-null     object        \n",
      " 3   Message       82 non-null     object        \n",
      "dtypes: datetime64[ns](1), int64(1), object(2)\n",
      "memory usage: 2.7+ KB\n"
     ]
    }
   ],
   "source": [
    "df.info()"
   ]
  },
  {
   "cell_type": "code",
   "execution_count": null,
   "metadata": {},
   "outputs": [],
   "source": []
  }
 ],
 "metadata": {
  "kernelspec": {
   "display_name": "Python 3",
   "language": "python",
   "name": "python3"
  },
  "language_info": {
   "codemirror_mode": {
    "name": "ipython",
    "version": 3
   },
   "file_extension": ".py",
   "mimetype": "text/x-python",
   "name": "python",
   "nbconvert_exporter": "python",
   "pygments_lexer": "ipython3",
   "version": "3.9.7"
  }
 },
 "nbformat": 4,
 "nbformat_minor": 2
}
