{
 "cells": [
  {
   "cell_type": "code",
   "execution_count": 73,
   "metadata": {},
   "outputs": [],
   "source": [
    "import pandas as pd\n",
    "import matplotlib.pyplot as plt\n",
    "import seaborn as sns\n",
    "import numpy as np\n",
    "from datetime import datetime"
   ]
  },
  {
   "cell_type": "code",
   "execution_count": 74,
   "metadata": {},
   "outputs": [
    {
     "data": {
      "text/html": [
       "<div>\n",
       "<style scoped>\n",
       "    .dataframe tbody tr th:only-of-type {\n",
       "        vertical-align: middle;\n",
       "    }\n",
       "\n",
       "    .dataframe tbody tr th {\n",
       "        vertical-align: top;\n",
       "    }\n",
       "\n",
       "    .dataframe thead th {\n",
       "        text-align: right;\n",
       "    }\n",
       "</style>\n",
       "<table border=\"1\" class=\"dataframe\">\n",
       "  <thead>\n",
       "    <tr style=\"text-align: right;\">\n",
       "      <th></th>\n",
       "      <th>Date_time</th>\n",
       "      <th>date_documented</th>\n",
       "      <th>Year</th>\n",
       "      <th>Month</th>\n",
       "      <th>Hour</th>\n",
       "      <th>Season</th>\n",
       "      <th>Country_Code</th>\n",
       "      <th>Country</th>\n",
       "      <th>Region</th>\n",
       "      <th>Locale</th>\n",
       "      <th>latitude</th>\n",
       "      <th>longitude</th>\n",
       "      <th>UFO_shape</th>\n",
       "      <th>length_of_encounter_seconds</th>\n",
       "      <th>Encounter_Duration</th>\n",
       "      <th>Description</th>\n",
       "    </tr>\n",
       "  </thead>\n",
       "  <tbody>\n",
       "    <tr>\n",
       "      <th>0</th>\n",
       "      <td>10/10/1949 20:30</td>\n",
       "      <td>4/27/2004</td>\n",
       "      <td>1949</td>\n",
       "      <td>10</td>\n",
       "      <td>20</td>\n",
       "      <td>Autumn</td>\n",
       "      <td>USA</td>\n",
       "      <td>United States</td>\n",
       "      <td>Texas</td>\n",
       "      <td>San Marcos</td>\n",
       "      <td>29.883056</td>\n",
       "      <td>-97.941111</td>\n",
       "      <td>Cylinder</td>\n",
       "      <td>2700.0</td>\n",
       "      <td>45 minutes</td>\n",
       "      <td>This event took place in early fall around 194...</td>\n",
       "    </tr>\n",
       "    <tr>\n",
       "      <th>1</th>\n",
       "      <td>10/10/1949 21:00</td>\n",
       "      <td>12/16/2005</td>\n",
       "      <td>1949</td>\n",
       "      <td>10</td>\n",
       "      <td>21</td>\n",
       "      <td>Autumn</td>\n",
       "      <td>USA</td>\n",
       "      <td>United States</td>\n",
       "      <td>Texas</td>\n",
       "      <td>Bexar County</td>\n",
       "      <td>29.384210</td>\n",
       "      <td>-98.581082</td>\n",
       "      <td>Light</td>\n",
       "      <td>7200.0</td>\n",
       "      <td>1-2 hrs</td>\n",
       "      <td>1949 Lackland AFB&amp;#44 TX.  Lights racing acros...</td>\n",
       "    </tr>\n",
       "    <tr>\n",
       "      <th>2</th>\n",
       "      <td>10/10/1955 17:00</td>\n",
       "      <td>1/21/2008</td>\n",
       "      <td>1955</td>\n",
       "      <td>10</td>\n",
       "      <td>17</td>\n",
       "      <td>Autumn</td>\n",
       "      <td>GBR</td>\n",
       "      <td>United Kingdom</td>\n",
       "      <td>England</td>\n",
       "      <td>Chester</td>\n",
       "      <td>53.200000</td>\n",
       "      <td>-2.916667</td>\n",
       "      <td>Circle</td>\n",
       "      <td>20.0</td>\n",
       "      <td>20 seconds</td>\n",
       "      <td>Green/Orange circular disc over Chester&amp;#44 En...</td>\n",
       "    </tr>\n",
       "    <tr>\n",
       "      <th>3</th>\n",
       "      <td>10/10/1956 21:00</td>\n",
       "      <td>1/17/2004</td>\n",
       "      <td>1956</td>\n",
       "      <td>10</td>\n",
       "      <td>21</td>\n",
       "      <td>Autumn</td>\n",
       "      <td>USA</td>\n",
       "      <td>United States</td>\n",
       "      <td>Texas</td>\n",
       "      <td>Edna</td>\n",
       "      <td>28.978333</td>\n",
       "      <td>-96.645833</td>\n",
       "      <td>Circle</td>\n",
       "      <td>20.0</td>\n",
       "      <td>1/2 hour</td>\n",
       "      <td>My older brother and twin sister were leaving ...</td>\n",
       "    </tr>\n",
       "    <tr>\n",
       "      <th>4</th>\n",
       "      <td>10/10/1960 20:00</td>\n",
       "      <td>1/22/2004</td>\n",
       "      <td>1960</td>\n",
       "      <td>10</td>\n",
       "      <td>20</td>\n",
       "      <td>Autumn</td>\n",
       "      <td>USA</td>\n",
       "      <td>United States</td>\n",
       "      <td>Hawaii</td>\n",
       "      <td>Kaneohe</td>\n",
       "      <td>21.418056</td>\n",
       "      <td>-157.803611</td>\n",
       "      <td>Light</td>\n",
       "      <td>900.0</td>\n",
       "      <td>15 minutes</td>\n",
       "      <td>AS a Marine 1st Lt. flying an FJ4B fighter/att...</td>\n",
       "    </tr>\n",
       "  </tbody>\n",
       "</table>\n",
       "</div>"
      ],
      "text/plain": [
       "          Date_time date_documented  Year  Month  Hour  Season Country_Code  \\\n",
       "0  10/10/1949 20:30       4/27/2004  1949     10    20  Autumn          USA   \n",
       "1  10/10/1949 21:00      12/16/2005  1949     10    21  Autumn          USA   \n",
       "2  10/10/1955 17:00       1/21/2008  1955     10    17  Autumn          GBR   \n",
       "3  10/10/1956 21:00       1/17/2004  1956     10    21  Autumn          USA   \n",
       "4  10/10/1960 20:00       1/22/2004  1960     10    20  Autumn          USA   \n",
       "\n",
       "          Country   Region        Locale   latitude   longitude UFO_shape  \\\n",
       "0   United States    Texas    San Marcos  29.883056  -97.941111  Cylinder   \n",
       "1   United States    Texas  Bexar County  29.384210  -98.581082     Light   \n",
       "2  United Kingdom  England       Chester  53.200000   -2.916667    Circle   \n",
       "3   United States    Texas          Edna  28.978333  -96.645833    Circle   \n",
       "4   United States   Hawaii       Kaneohe  21.418056 -157.803611     Light   \n",
       "\n",
       "   length_of_encounter_seconds Encounter_Duration  \\\n",
       "0                       2700.0         45 minutes   \n",
       "1                       7200.0            1-2 hrs   \n",
       "2                         20.0         20 seconds   \n",
       "3                         20.0           1/2 hour   \n",
       "4                        900.0         15 minutes   \n",
       "\n",
       "                                         Description  \n",
       "0  This event took place in early fall around 194...  \n",
       "1  1949 Lackland AFB&#44 TX.  Lights racing acros...  \n",
       "2  Green/Orange circular disc over Chester&#44 En...  \n",
       "3  My older brother and twin sister were leaving ...  \n",
       "4  AS a Marine 1st Lt. flying an FJ4B fighter/att...  "
      ]
     },
     "execution_count": 74,
     "metadata": {},
     "output_type": "execute_result"
    }
   ],
   "source": [
    "ufo_data=pd.read_csv('ufo-sightings-transformed.csv')\n",
    "ufo_data.head()"
   ]
  },
  {
   "cell_type": "markdown",
   "metadata": {},
   "source": [
    "# **<font color='red'>Data Summary</font>**"
   ]
  },
  {
   "cell_type": "markdown",
   "metadata": {},
   "source": [
    "## <font color='blue'>.info() function </font><br>\n",
    "The <font color='blue'>.info()</font> function will let us know our data types, and if we have any missing data. <br>\n",
    "In our case:<br>1- We have missing values that we'll deal with it later.<br>2- We have to convert the attributes 'Date_time' and 'date_documented' to a datetime format"
   ]
  },
  {
   "cell_type": "code",
   "execution_count": 75,
   "metadata": {},
   "outputs": [
    {
     "name": "stdout",
     "output_type": "stream",
     "text": [
      "<class 'pandas.core.frame.DataFrame'>\n",
      "RangeIndex: 80328 entries, 0 to 80327\n",
      "Data columns (total 16 columns):\n",
      " #   Column                       Non-Null Count  Dtype  \n",
      "---  ------                       --------------  -----  \n",
      " 0   Date_time                    80328 non-null  object \n",
      " 1   date_documented              80328 non-null  object \n",
      " 2   Year                         80328 non-null  int64  \n",
      " 3   Month                        80328 non-null  int64  \n",
      " 4   Hour                         80328 non-null  int64  \n",
      " 5   Season                       80328 non-null  object \n",
      " 6   Country_Code                 80069 non-null  object \n",
      " 7   Country                      80069 non-null  object \n",
      " 8   Region                       79762 non-null  object \n",
      " 9   Locale                       79871 non-null  object \n",
      " 10  latitude                     80328 non-null  float64\n",
      " 11  longitude                    80328 non-null  float64\n",
      " 12  UFO_shape                    78398 non-null  object \n",
      " 13  length_of_encounter_seconds  80328 non-null  float64\n",
      " 14  Encounter_Duration           80328 non-null  object \n",
      " 15  Description                  80313 non-null  object \n",
      "dtypes: float64(3), int64(3), object(10)\n",
      "memory usage: 9.8+ MB\n"
     ]
    }
   ],
   "source": [
    "ufo_data.info()"
   ]
  },
  {
   "cell_type": "markdown",
   "metadata": {},
   "source": [
    "## <font color='blue'>.describe() function</font> <br>\n",
    "The <font color='blue'>.describe()</font> function provides a summary of basic statistical measures for the numerical attributes that can help us get a quick understanding of the distribution and central tendencies of our data."
   ]
  },
  {
   "cell_type": "code",
   "execution_count": 76,
   "metadata": {},
   "outputs": [
    {
     "data": {
      "text/html": [
       "<div>\n",
       "<style scoped>\n",
       "    .dataframe tbody tr th:only-of-type {\n",
       "        vertical-align: middle;\n",
       "    }\n",
       "\n",
       "    .dataframe tbody tr th {\n",
       "        vertical-align: top;\n",
       "    }\n",
       "\n",
       "    .dataframe thead th {\n",
       "        text-align: right;\n",
       "    }\n",
       "</style>\n",
       "<table border=\"1\" class=\"dataframe\">\n",
       "  <thead>\n",
       "    <tr style=\"text-align: right;\">\n",
       "      <th></th>\n",
       "      <th>Year</th>\n",
       "      <th>Month</th>\n",
       "      <th>Hour</th>\n",
       "      <th>latitude</th>\n",
       "      <th>longitude</th>\n",
       "      <th>length_of_encounter_seconds</th>\n",
       "    </tr>\n",
       "  </thead>\n",
       "  <tbody>\n",
       "    <tr>\n",
       "      <th>count</th>\n",
       "      <td>80328.000000</td>\n",
       "      <td>80328.000000</td>\n",
       "      <td>80328.000000</td>\n",
       "      <td>80328.000000</td>\n",
       "      <td>80328.000000</td>\n",
       "      <td>8.032800e+04</td>\n",
       "    </tr>\n",
       "    <tr>\n",
       "      <th>mean</th>\n",
       "      <td>2003.850463</td>\n",
       "      <td>6.835026</td>\n",
       "      <td>15.525172</td>\n",
       "      <td>38.124963</td>\n",
       "      <td>-86.772015</td>\n",
       "      <td>9.017336e+03</td>\n",
       "    </tr>\n",
       "    <tr>\n",
       "      <th>std</th>\n",
       "      <td>10.426547</td>\n",
       "      <td>3.234876</td>\n",
       "      <td>7.753750</td>\n",
       "      <td>10.469146</td>\n",
       "      <td>39.697805</td>\n",
       "      <td>6.202322e+05</td>\n",
       "    </tr>\n",
       "    <tr>\n",
       "      <th>min</th>\n",
       "      <td>1906.000000</td>\n",
       "      <td>1.000000</td>\n",
       "      <td>0.000000</td>\n",
       "      <td>-82.862752</td>\n",
       "      <td>-176.658056</td>\n",
       "      <td>1.000000e-03</td>\n",
       "    </tr>\n",
       "    <tr>\n",
       "      <th>25%</th>\n",
       "      <td>2001.000000</td>\n",
       "      <td>4.000000</td>\n",
       "      <td>10.000000</td>\n",
       "      <td>34.134722</td>\n",
       "      <td>-112.073333</td>\n",
       "      <td>3.000000e+01</td>\n",
       "    </tr>\n",
       "    <tr>\n",
       "      <th>50%</th>\n",
       "      <td>2006.000000</td>\n",
       "      <td>7.000000</td>\n",
       "      <td>19.000000</td>\n",
       "      <td>39.412500</td>\n",
       "      <td>-87.903611</td>\n",
       "      <td>1.800000e+02</td>\n",
       "    </tr>\n",
       "    <tr>\n",
       "      <th>75%</th>\n",
       "      <td>2011.000000</td>\n",
       "      <td>9.000000</td>\n",
       "      <td>21.000000</td>\n",
       "      <td>42.788333</td>\n",
       "      <td>-78.755000</td>\n",
       "      <td>6.000000e+02</td>\n",
       "    </tr>\n",
       "    <tr>\n",
       "      <th>max</th>\n",
       "      <td>2014.000000</td>\n",
       "      <td>12.000000</td>\n",
       "      <td>23.000000</td>\n",
       "      <td>72.700000</td>\n",
       "      <td>178.441900</td>\n",
       "      <td>9.783600e+07</td>\n",
       "    </tr>\n",
       "  </tbody>\n",
       "</table>\n",
       "</div>"
      ],
      "text/plain": [
       "               Year         Month          Hour      latitude     longitude  \\\n",
       "count  80328.000000  80328.000000  80328.000000  80328.000000  80328.000000   \n",
       "mean    2003.850463      6.835026     15.525172     38.124963    -86.772015   \n",
       "std       10.426547      3.234876      7.753750     10.469146     39.697805   \n",
       "min     1906.000000      1.000000      0.000000    -82.862752   -176.658056   \n",
       "25%     2001.000000      4.000000     10.000000     34.134722   -112.073333   \n",
       "50%     2006.000000      7.000000     19.000000     39.412500    -87.903611   \n",
       "75%     2011.000000      9.000000     21.000000     42.788333    -78.755000   \n",
       "max     2014.000000     12.000000     23.000000     72.700000    178.441900   \n",
       "\n",
       "       length_of_encounter_seconds  \n",
       "count                 8.032800e+04  \n",
       "mean                  9.017336e+03  \n",
       "std                   6.202322e+05  \n",
       "min                   1.000000e-03  \n",
       "25%                   3.000000e+01  \n",
       "50%                   1.800000e+02  \n",
       "75%                   6.000000e+02  \n",
       "max                   9.783600e+07  "
      ]
     },
     "execution_count": 76,
     "metadata": {},
     "output_type": "execute_result"
    }
   ],
   "source": [
    "ufo_data.describe()"
   ]
  },
  {
   "cell_type": "markdown",
   "metadata": {},
   "source": [
    "# **<font color='red'>Data Cleaning</font>**"
   ]
  },
  {
   "cell_type": "markdown",
   "metadata": {},
   "source": [
    "## <font color='blue'>Handling missing values</font>"
   ]
  },
  {
   "cell_type": "markdown",
   "metadata": {},
   "source": [
    "In our case we have 6 columns that contain missing values, and all of them are nominal. "
   ]
  },
  {
   "cell_type": "code",
   "execution_count": 77,
   "metadata": {},
   "outputs": [
    {
     "data": {
      "text/plain": [
       "Date_time                         0\n",
       "date_documented                   0\n",
       "Year                              0\n",
       "Month                             0\n",
       "Hour                              0\n",
       "Season                            0\n",
       "Country_Code                    259\n",
       "Country                         259\n",
       "Region                          566\n",
       "Locale                          457\n",
       "latitude                          0\n",
       "longitude                         0\n",
       "UFO_shape                      1930\n",
       "length_of_encounter_seconds       0\n",
       "Encounter_Duration                0\n",
       "Description                      15\n",
       "dtype: int64"
      ]
     },
     "execution_count": 77,
     "metadata": {},
     "output_type": "execute_result"
    }
   ],
   "source": [
    "# .isnull() is a function that returns true when we have a missing value.\n",
    "ufo_data.isnull().sum()"
   ]
  },
  {
   "cell_type": "markdown",
   "metadata": {},
   "source": [
    "One of  the ways that we can handle missing nominal data is by replacing the missing value by the mode of the attribute. <br><br>\n",
    "<font color='red'>Note:</font> We have to make sure that we don't have highly skewed class distributions.<br> In some cases, this method can make the data imbalanced if there are a huge number of missing values in our dataset.<br><br>\n"
   ]
  },
  {
   "cell_type": "markdown",
   "metadata": {},
   "source": [
    "### How can we know if the skewness will be affected or not?<br>\n",
    "We can either plot a bar plot or pie chart since both can be indicators of skewness."
   ]
  },
  {
   "cell_type": "markdown",
   "metadata": {},
   "source": [
    "1- Let's start by the Country_Code column and check its distribution by plotting a bar chart:"
   ]
  },
  {
   "cell_type": "code",
   "execution_count": 78,
   "metadata": {},
   "outputs": [
    {
     "data": {
      "text/plain": [
       "Country_Code\n",
       "USA    0.885212\n",
       "CAN    0.044861\n",
       "GBR    0.029350\n",
       "AUS    0.007868\n",
       "IND    0.002823\n",
       "         ...   \n",
       "OMN    0.000012\n",
       "AGO    0.000012\n",
       "KHM    0.000012\n",
       "TZA    0.000012\n",
       "LAO    0.000012\n",
       "Name: proportion, Length: 135, dtype: float64"
      ]
     },
     "execution_count": 78,
     "metadata": {},
     "output_type": "execute_result"
    }
   ],
   "source": [
    "\"\"\"\n",
    " 1) The .value_counts fucntion will give us the frequency\n",
    "    of each category in the Country_code Column\n",
    "\n",
    " 2) The parameter normalize is set to True to return the\n",
    "    proportions of each category.\n",
    "\"\"\"\n",
    "Country_nb=ufo_data['Country_Code'].value_counts(normalize=True)\n",
    "Country_nb"
   ]
  },
  {
   "cell_type": "markdown",
   "metadata": {},
   "source": [
    "The United States is the dominant location for UFO sightings,  it is nearly 88.52% of the total UFO sightings.<br><br>\n",
    "Now let's plot the distribution of the 10 most frequent categories out of 135:"
   ]
  },
  {
   "cell_type": "code",
   "execution_count": 79,
   "metadata": {},
   "outputs": [
    {
     "name": "stderr",
     "output_type": "stream",
     "text": [
      "C:\\Users\\Legion\\AppData\\Local\\Temp\\ipykernel_28456\\2686901493.py:5: FutureWarning: \n",
      "\n",
      "Passing `palette` without assigning `hue` is deprecated and will be removed in v0.14.0. Assign the `x` variable to `hue` and set `legend=False` for the same effect.\n",
      "\n",
      "  sns.barplot(x=top_countries.index,y=top_countries.values, palette=\"Set2\") # palette is used to choose a color palette for the bars\n"
     ]
    },
    {
     "data": {
      "image/png": "[encoded data removed]",
      "text/plain": [
       "<Figure size 1600x900 with 1 Axes>"
      ]
     },
     "metadata": {},
     "output_type": "display_data"
    }
   ],
   "source": [
    "# Most 10 frequent countries:\n",
    "sns.set(style=\"whitegrid\") # This style is used to have a white  background with grid lines.\n",
    "plt.figure(figsize=(16,9)) #chose this size because PowerPoint presentations are displayed in a 16:9 widescreen format.\n",
    "top_countries=Country_nb.head(10) # Storing the 10 most frequent countries and storing them in top_countries\n",
    "sns.barplot(x=top_countries.index,y=top_countries.values, palette=\"Set2\") # palette is used to choose a color palette for the bars\n",
    "plt.title('Distribution of the Country Code',fontsize=16)\n",
    "plt.xlabel('Country Code', fontsize=12)\n",
    "plt.ylabel('Proportion', fontsize=12)\n",
    "plt.xticks(rotation=45) # rotating the x-axis labels for better readability\n",
    "plt.tight_layout() # Fitting the plot within the figure \n",
    "plt.show()"
   ]
  },
  {
   "cell_type": "markdown",
   "metadata": {},
   "source": [
    "We can obviously see that the Country Codes attribute is heavily skewed.<br> It might not be a good idea to fill in missing country codes with the most frequent value \"USA\", this could exaggerate the skewness of the data.<br><br>\n",
    "<font color='blue'>What can we do?</font><br>\n",
    "We can simply create a new category by replacing the missing values with \"Unknown\"."
   ]
  },
  {
   "cell_type": "code",
   "execution_count": 81,
   "metadata": {},
   "outputs": [],
   "source": [
    "# Replacing missing values in 'Country_Codes' by unknown.\n",
    "ufo_data['Country_Code'].fillna('Unknown',inplace = True)"
   ]
  },
  {
   "cell_type": "markdown",
   "metadata": {},
   "source": [
    "2- Now we let's deal with theCountry Column:"
   ]
  },
  {
   "cell_type": "code",
   "execution_count": 87,
   "metadata": {},
   "outputs": [
    {
     "name": "stdout",
     "output_type": "stream",
     "text": [
      "Country\n",
      "United States                       0.885212\n",
      "Canada                              0.044861\n",
      "United Kingdom                      0.029325\n",
      "Australia                           0.007868\n",
      "India                               0.002823\n",
      "                                      ...   \n",
      "Saint Vincent and the Grenadines    0.000012\n",
      "Eswatini                            0.000012\n",
      "Ghana                               0.000012\n",
      "Algeria                             0.000012\n",
      "Palestinian Territories             0.000012\n",
      "Name: proportion, Length: 151, dtype: float64\n"
     ]
    }
   ],
   "source": [
    "country_counts=ufo_data['Country'].value_counts(normalize=True)\n",
    "print(country_counts)"
   ]
  },
  {
   "cell_type": "markdown",
   "metadata": {},
   "source": [
    "As you can see it gave us exactly the same results as the Country code column.<br><br>\n",
    "Both attributes have the same amount of missing data.<br><br>\n",
    "This implies that when we have a missing country code, in the same record, we will have a missing Country.<br><br>\n",
    "So we will replace missing values by \"Unknown\""
   ]
  },
  {
   "cell_type": "code",
   "execution_count": 88,
   "metadata": {},
   "outputs": [],
   "source": [
    "# Replacing missing values in 'Country' by unknown.\n",
    "ufo_data['Country'].fillna('Unknown',inplace = True)"
   ]
  },
  {
   "cell_type": "markdown",
   "metadata": {},
   "source": [
    "3- Let's test the skewness of Region by plotting a bar chart:"
   ]
  },
  {
   "cell_type": "code",
   "execution_count": 89,
   "metadata": {},
   "outputs": [
    {
     "name": "stdout",
     "output_type": "stream",
     "text": [
      "Region\n",
      "California                     0.120671\n",
      "Washington                     0.053534\n",
      "Florida                        0.052657\n",
      "Texas                          0.046187\n",
      "New York                       0.040558\n",
      "                                 ...   \n",
      "Monastir                       0.000013\n",
      "West Pomeranian Voivodeship    0.000013\n",
      "Batangas                       0.000013\n",
      "Jujuy                          0.000013\n",
      "Département de M'bour          0.000013\n",
      "Name: proportion, Length: 743, dtype: float64\n"
     ]
    }
   ],
   "source": [
    "region_counts=ufo_data['Region'].value_counts(normalize=True)\n",
    "print(region_counts)"
   ]
  },
  {
   "cell_type": "code",
   "execution_count": 93,
   "metadata": {},
   "outputs": [
    {
     "name": "stderr",
     "output_type": "stream",
     "text": [
      "C:\\Users\\Legion\\AppData\\Local\\Temp\\ipykernel_28456\\854274568.py:4: FutureWarning: \n",
      "\n",
      "Passing `palette` without assigning `hue` is deprecated and will be removed in v0.14.0. Assign the `x` variable to `hue` and set `legend=False` for the same effect.\n",
      "\n",
      "  sns.barplot(x=top_regions.index,y=top_regions.values, palette=\"Set2\",legend=True) # palette is used to choose a color palette for the bars\n"
     ]
    },
    {
     "data": {
      "image/png": "[encoded data removed]",
      "text/plain": [
       "<Figure size 1600x900 with 1 Axes>"
      ]
     },
     "metadata": {},
     "output_type": "display_data"
    }
   ],
   "source": [
    "sns.set(style=\"whitegrid\") # This style is used to have a white  background with grid lines.\n",
    "plt.figure(figsize=(16,9)) #chose this size because PowerPoint presentations are displayed in a 16:9 widescreen format.\n",
    "top_regions=region_counts # Storing the 10 most frequent countries and storing them in top_countries\n",
    "sns.barplot(x=top_regions.index,y=top_regions.values, palette=\"Set2\",legend=True) # palette is used to choose a color palette for the bars\n",
    "plt.title('Distribution of the Regions',fontsize=16)\n",
    "plt.xlabel('Region', fontsize=12)\n",
    "plt.ylabel('Proportion', fontsize=12)\n",
    "plt.xticks(rotation=45) # rotating the x-axis labels for better readability\n",
    "plt.tight_layout() # Fitting the plot within the figure \n",
    "plt.show()"
   ]
  },
  {
   "cell_type": "markdown",
   "metadata": {},
   "source": [
    "\"California\" is the most frequent region with a proportion significantly larger than the others.<br><br>\n",
    "Replacing missing values withe the mode may not be a valid method.<br><br>\n",
    "So we're going to replace the missing values with \"Unknown\""
   ]
  },
  {
   "cell_type": "code",
   "execution_count": 95,
   "metadata": {},
   "outputs": [],
   "source": [
    "# Replacing missing values in 'Region' by unknown.\n",
    "ufo_data['Region'].fillna('Unknown',inplace = True)"
   ]
  }
 ],
 "metadata": {
  "kernelspec": {
   "display_name": "Python 3",
   "language": "python",
   "name": "python3"
  },
  "language_info": {
   "codemirror_mode": {
    "name": "ipython",
    "version": 3
   },
   "file_extension": ".py",
   "mimetype": "text/x-python",
   "name": "python",
   "nbconvert_exporter": "python",
   "pygments_lexer": "ipython3",
   "version": "3.9.7"
  }
 },
 "nbformat": 4,
 "nbformat_minor": 2
}
